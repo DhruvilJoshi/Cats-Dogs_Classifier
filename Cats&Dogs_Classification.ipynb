{
 "cells": [
  {
   "cell_type": "markdown",
   "metadata": {
    "colab_type": "text",
    "id": "VO6QzkM7c9sk"
   },
   "source": [
    "# Loading Dataset"
   ]
  },
  {
   "cell_type": "code",
   "execution_count": 1,
   "metadata": {
    "colab": {
     "base_uri": "https://localhost:8080/",
     "height": 33
    },
    "colab_type": "code",
    "executionInfo": {
     "elapsed": 2842,
     "status": "ok",
     "timestamp": 1589165538085,
     "user": {
      "displayName": "Pavan Patel",
      "photoUrl": "",
      "userId": "00041028778275492936"
     },
     "user_tz": 240
    },
    "id": "YlCKThbfbaP_",
    "outputId": "9d950d4a-d708-40a9-c5b4-fac3a0f1b790"
   },
   "outputs": [
    {
     "name": "stderr",
     "output_type": "stream",
     "text": [
      "Using TensorFlow backend.\n"
     ]
    }
   ],
   "source": [
    "import numpy as np\n",
    "import pandas as pd\n",
    "from keras.preprocessing.image import ImageDataGenerator, load_img\n",
    "from keras.utils import to_categorical\n",
    "from sklearn.model_selection import train_test_split\n",
    "import matplotlib.pyplot as plt\n",
    "import random"
   ]
  },
  {
   "cell_type": "code",
   "execution_count": 0,
   "metadata": {
    "colab": {
     "base_uri": "https://localhost:8080/",
     "height": 33
    },
    "colab_type": "code",
    "executionInfo": {
     "elapsed": 432,
     "status": "ok",
     "timestamp": 1589078890451,
     "user": {
      "displayName": "Pavan Patel",
      "photoUrl": "",
      "userId": "00041028778275492936"
     },
     "user_tz": 240
    },
    "id": "dlmlNtLvcS10",
    "outputId": "01963be9-d270-4dc6-9faf-662a88cdcaa0",
    "scrolled": true
   },
   "outputs": [
    {
     "name": "stdout",
     "output_type": "stream",
     "text": [
      "['sampleSubmission.csv', 'test1', 'train']\n"
     ]
    }
   ],
   "source": [
    "import os\n",
    "print(os.listdir(\"/content/drive/My Drive/Colab Notebooks/Deep Learning Data\"))"
   ]
  },
  {
   "cell_type": "code",
   "execution_count": 0,
   "metadata": {
    "colab": {},
    "colab_type": "code",
    "id": "nzKSAhidcviL"
   },
   "outputs": [],
   "source": [
    "FAST_RUN = False\n",
    "IMAGE_WIDTH = 128\n",
    "IMAGE_HEIGHT = 128\n",
    "IMAGE_SIZE = (IMAGE_WIDTH, IMAGE_HEIGHT)\n",
    "IMAGE_CHANNELS = 3"
   ]
  },
  {
   "cell_type": "code",
   "execution_count": 0,
   "metadata": {
    "colab": {},
    "colab_type": "code",
    "id": "F6dX3F8l5nRR"
   },
   "outputs": [],
   "source": [
    "filenames = os.listdir(\"/content/drive/My Drive/Colab Notebooks/Deep Learning Data/train\")\n",
    "categories = []\n",
    "for filename in filenames:\n",
    "  category = filename.split('.')[0]\n",
    "  if category =='dog':\n",
    "    categories.append(1)\n",
    "  else:\n",
    "    categories.append(0)\n",
    "df = pd.DataFrame({\n",
    "    'filename': filenames,\n",
    "    'category': categories\n",
    "})"
   ]
  },
  {
   "cell_type": "code",
   "execution_count": 0,
   "metadata": {
    "colab": {
     "base_uri": "https://localhost:8080/",
     "height": 196
    },
    "colab_type": "code",
    "executionInfo": {
     "elapsed": 487,
     "status": "ok",
     "timestamp": 1589078940194,
     "user": {
      "displayName": "Pavan Patel",
      "photoUrl": "",
      "userId": "00041028778275492936"
     },
     "user_tz": 240
    },
    "id": "1jpNZqYP611x",
    "outputId": "fdb63b97-6911-459d-aa57-9c8ab8ac8a2a"
   },
   "outputs": [
    {
     "data": {
      "text/html": [
       "<div>\n",
       "<style scoped>\n",
       "    .dataframe tbody tr th:only-of-type {\n",
       "        vertical-align: middle;\n",
       "    }\n",
       "\n",
       "    .dataframe tbody tr th {\n",
       "        vertical-align: top;\n",
       "    }\n",
       "\n",
       "    .dataframe thead th {\n",
       "        text-align: right;\n",
       "    }\n",
       "</style>\n",
       "<table border=\"1\" class=\"dataframe\">\n",
       "  <thead>\n",
       "    <tr style=\"text-align: right;\">\n",
       "      <th></th>\n",
       "      <th>filename</th>\n",
       "      <th>category</th>\n",
       "    </tr>\n",
       "  </thead>\n",
       "  <tbody>\n",
       "    <tr>\n",
       "      <th>0</th>\n",
       "      <td>cat.9577.jpg</td>\n",
       "      <td>0</td>\n",
       "    </tr>\n",
       "    <tr>\n",
       "      <th>1</th>\n",
       "      <td>cat.9548.jpg</td>\n",
       "      <td>0</td>\n",
       "    </tr>\n",
       "    <tr>\n",
       "      <th>2</th>\n",
       "      <td>cat.9574.jpg</td>\n",
       "      <td>0</td>\n",
       "    </tr>\n",
       "    <tr>\n",
       "      <th>3</th>\n",
       "      <td>cat.9568.jpg</td>\n",
       "      <td>0</td>\n",
       "    </tr>\n",
       "    <tr>\n",
       "      <th>4</th>\n",
       "      <td>cat.9566.jpg</td>\n",
       "      <td>0</td>\n",
       "    </tr>\n",
       "  </tbody>\n",
       "</table>\n",
       "</div>"
      ],
      "text/plain": [
       "       filename  category\n",
       "0  cat.9577.jpg         0\n",
       "1  cat.9548.jpg         0\n",
       "2  cat.9574.jpg         0\n",
       "3  cat.9568.jpg         0\n",
       "4  cat.9566.jpg         0"
      ]
     },
     "execution_count": 15,
     "metadata": {
      "tags": []
     },
     "output_type": "execute_result"
    }
   ],
   "source": [
    "df.head()"
   ]
  },
  {
   "cell_type": "code",
   "execution_count": 0,
   "metadata": {
    "colab": {
     "base_uri": "https://localhost:8080/",
     "height": 196
    },
    "colab_type": "code",
    "executionInfo": {
     "elapsed": 467,
     "status": "ok",
     "timestamp": 1589078941511,
     "user": {
      "displayName": "Pavan Patel",
      "photoUrl": "",
      "userId": "00041028778275492936"
     },
     "user_tz": 240
    },
    "id": "rSQvyuEy6_Pn",
    "outputId": "a0f81563-af09-4f5c-b1e5-a531c5adc49e"
   },
   "outputs": [
    {
     "data": {
      "text/html": [
       "<div>\n",
       "<style scoped>\n",
       "    .dataframe tbody tr th:only-of-type {\n",
       "        vertical-align: middle;\n",
       "    }\n",
       "\n",
       "    .dataframe tbody tr th {\n",
       "        vertical-align: top;\n",
       "    }\n",
       "\n",
       "    .dataframe thead th {\n",
       "        text-align: right;\n",
       "    }\n",
       "</style>\n",
       "<table border=\"1\" class=\"dataframe\">\n",
       "  <thead>\n",
       "    <tr style=\"text-align: right;\">\n",
       "      <th></th>\n",
       "      <th>filename</th>\n",
       "      <th>category</th>\n",
       "    </tr>\n",
       "  </thead>\n",
       "  <tbody>\n",
       "    <tr>\n",
       "      <th>24995</th>\n",
       "      <td>dog.1015.jpg</td>\n",
       "      <td>1</td>\n",
       "    </tr>\n",
       "    <tr>\n",
       "      <th>24996</th>\n",
       "      <td>dog.10110.jpg</td>\n",
       "      <td>1</td>\n",
       "    </tr>\n",
       "    <tr>\n",
       "      <th>24997</th>\n",
       "      <td>dog.10106.jpg</td>\n",
       "      <td>1</td>\n",
       "    </tr>\n",
       "    <tr>\n",
       "      <th>24998</th>\n",
       "      <td>dog.1014.jpg</td>\n",
       "      <td>1</td>\n",
       "    </tr>\n",
       "    <tr>\n",
       "      <th>24999</th>\n",
       "      <td>dog.10142.jpg</td>\n",
       "      <td>1</td>\n",
       "    </tr>\n",
       "  </tbody>\n",
       "</table>\n",
       "</div>"
      ],
      "text/plain": [
       "            filename  category\n",
       "24995   dog.1015.jpg         1\n",
       "24996  dog.10110.jpg         1\n",
       "24997  dog.10106.jpg         1\n",
       "24998   dog.1014.jpg         1\n",
       "24999  dog.10142.jpg         1"
      ]
     },
     "execution_count": 16,
     "metadata": {
      "tags": []
     },
     "output_type": "execute_result"
    }
   ],
   "source": [
    "df.tail()"
   ]
  },
  {
   "cell_type": "code",
   "execution_count": 0,
   "metadata": {
    "colab": {
     "base_uri": "https://localhost:8080/",
     "height": 278
    },
    "colab_type": "code",
    "executionInfo": {
     "elapsed": 541,
     "status": "ok",
     "timestamp": 1589078943183,
     "user": {
      "displayName": "Pavan Patel",
      "photoUrl": "",
      "userId": "00041028778275492936"
     },
     "user_tz": 240
    },
    "id": "w3BMVDON7BvV",
    "outputId": "5babb24f-d789-467e-c3d8-26b452d32df3"
   },
   "outputs": [
    {
     "data": {
      "text/plain": [
       "<matplotlib.axes._subplots.AxesSubplot at 0x7f7128649588>"
      ]
     },
     "execution_count": 17,
     "metadata": {
      "tags": []
     },
     "output_type": "execute_result"
    },
    {
     "data": {
      "image/png": "[encoded data removed]",
      "text/plain": [
       "<Figure size 432x288 with 1 Axes>"
      ]
     },
     "metadata": {
      "needs_background": "light",
      "tags": []
     },
     "output_type": "display_data"
    }
   ],
   "source": [
    "df['category'].value_counts().plot.bar()"
   ]
  },
  {
   "cell_type": "code",
   "execution_count": 0,
   "metadata": {
    "colab": {
     "base_uri": "https://localhost:8080/",
     "height": 286
    },
    "colab_type": "code",
    "executionInfo": {
     "elapsed": 1150,
     "status": "ok",
     "timestamp": 1589078945320,
     "user": {
      "displayName": "Pavan Patel",
      "photoUrl": "",
      "userId": "00041028778275492936"
     },
     "user_tz": 240
    },
    "id": "1RS3CJqr7juE",
    "outputId": "44b3fff4-4c15-4ab5-f35a-2cb2c7e42e8a"
   },
   "outputs": [
    {
     "data": {
      "text/plain": [
       "<matplotlib.image.AxesImage at 0x7f71280e5c50>"
      ]
     },
     "execution_count": 18,
     "metadata": {
      "tags": []
     },
     "output_type": "execute_result"
    },
    {
     "data": {
      "image/png": "[encoded data removed]",
      "text/plain": [
       "<Figure size 432x288 with 1 Axes>"
      ]
     },
     "metadata": {
      "needs_background": "light",
      "tags": []
     },
     "output_type": "display_data"
    }
   ],
   "source": [
    "sample = random.choice(filenames)\n",
    "image = load_img(\"/content/drive/My Drive/Colab Notebooks/Deep Learning Data/train/\"+sample)\n",
    "plt.imshow(image)"
   ]
  },
  {
   "cell_type": "markdown",
   "metadata": {},
   "source": [
    "# Model definition"
   ]
  },
  {
   "cell_type": "code",
   "execution_count": 0,
   "metadata": {
    "colab": {
     "base_uri": "https://localhost:8080/",
     "height": 719
    },
    "colab_type": "code",
    "executionInfo": {
     "elapsed": 1084,
     "status": "ok",
     "timestamp": 1589078947282,
     "user": {
      "displayName": "Pavan Patel",
      "photoUrl": "",
      "userId": "00041028778275492936"
     },
     "user_tz": 240
    },
    "id": "aCIBqoP08HVs",
    "outputId": "84eefd65-e58c-414e-8dfc-d27d63fea2b7"
   },
   "outputs": [
    {
     "name": "stdout",
     "output_type": "stream",
     "text": [
      "Model: \"sequential_1\"\n",
      "_________________________________________________________________\n",
      "Layer (type)                 Output Shape              Param #   \n",
      "=================================================================\n",
      "conv2d_1 (Conv2D)            (None, 126, 126, 32)      896       \n",
      "_________________________________________________________________\n",
      "batch_normalization_1 (Batch (None, 126, 126, 32)      128       \n",
      "_________________________________________________________________\n",
      "max_pooling2d_1 (MaxPooling2 (None, 63, 63, 32)        0         \n",
      "_________________________________________________________________\n",
      "dropout_1 (Dropout)          (None, 63, 63, 32)        0         \n",
      "_________________________________________________________________\n",
      "conv2d_2 (Conv2D)            (None, 61, 61, 64)        18496     \n",
      "_________________________________________________________________\n",
      "batch_normalization_2 (Batch (None, 61, 61, 64)        256       \n",
      "_________________________________________________________________\n",
      "max_pooling2d_2 (MaxPooling2 (None, 30, 30, 64)        0         \n",
      "_________________________________________________________________\n",
      "dropout_2 (Dropout)          (None, 30, 30, 64)        0         \n",
      "_________________________________________________________________\n",
      "conv2d_3 (Conv2D)            (None, 28, 28, 128)       73856     \n",
      "_________________________________________________________________\n",
      "batch_normalization_3 (Batch (None, 28, 28, 128)       512       \n",
      "_________________________________________________________________\n",
      "max_pooling2d_3 (MaxPooling2 (None, 14, 14, 128)       0         \n",
      "_________________________________________________________________\n",
      "dropout_3 (Dropout)          (None, 14, 14, 128)       0         \n",
      "_________________________________________________________________\n",
      "flatten_1 (Flatten)          (None, 25088)             0         \n",
      "_________________________________________________________________\n",
      "dense_1 (Dense)              (None, 512)               12845568  \n",
      "_________________________________________________________________\n",
      "batch_normalization_4 (Batch (None, 512)               2048      \n",
      "_________________________________________________________________\n",
      "dropout_4 (Dropout)          (None, 512)               0         \n",
      "_________________________________________________________________\n",
      "dense_2 (Dense)              (None, 2)                 1026      \n",
      "=================================================================\n",
      "Total params: 12,942,786\n",
      "Trainable params: 12,941,314\n",
      "Non-trainable params: 1,472\n",
      "_________________________________________________________________\n"
     ]
    }
   ],
   "source": [
    "from keras.models import Sequential\n",
    "from keras.layers import Conv2D, MaxPooling2D, Dropout, Flatten, Dense, Activation, BatchNormalization\n",
    "model = Sequential()\n",
    "\n",
    "model.add(Conv2D(32, (3,3), activation='relu', input_shape=(IMAGE_WIDTH, IMAGE_HEIGHT, IMAGE_CHANNELS)))\n",
    "model.add(BatchNormalization())\n",
    "model.add(MaxPooling2D(pool_size=(2,2)))\n",
    "model.add(Dropout(0.25))\n",
    "\n",
    "model.add(Conv2D(64, (3,3), activation='relu'))\n",
    "model.add(BatchNormalization())\n",
    "model.add(MaxPooling2D(pool_size=(2,2)))\n",
    "model.add(Dropout(0.25))\n",
    "\n",
    "model.add(Conv2D(128, (3,3), activation='relu'))\n",
    "model.add(BatchNormalization())\n",
    "model.add(MaxPooling2D(pool_size=(2,2)))\n",
    "model.add(Dropout(0.25))\n",
    "\n",
    "model.add(Flatten())\n",
    "model.add(Dense(512, activation='relu'))\n",
    "model.add(BatchNormalization())\n",
    "model.add(Dropout(0.5))\n",
    "model.add(Dense(2, activation='softmax'))\n",
    "\n",
    "model.compile(loss='categorical_crossentropy', optimizer='rmsprop', metrics=['accuracy'])\n",
    "\n",
    "model.summary()\n"
   ]
  },
  {
   "cell_type": "code",
   "execution_count": 0,
   "metadata": {
    "colab": {},
    "colab_type": "code",
    "id": "_1b5-51UECvH"
   },
   "outputs": [],
   "source": [
    "from keras.callbacks import EarlyStopping, ReduceLROnPlateau"
   ]
  },
  {
   "cell_type": "code",
   "execution_count": 0,
   "metadata": {
    "colab": {},
    "colab_type": "code",
    "id": "d45gdpi5Eeum"
   },
   "outputs": [],
   "source": [
    "earlystop = EarlyStopping(patience=10)\n"
   ]
  },
  {
   "cell_type": "code",
   "execution_count": 0,
   "metadata": {
    "colab": {},
    "colab_type": "code",
    "id": "f0iNhKQHJB-v"
   },
   "outputs": [],
   "source": [
    "learning_rate_reduction = ReduceLROnPlateau(monitor='val_acc',\n",
    "                                            patience=2,\n",
    "                                            verbose=1,\n",
    "                                            factor=0.5,\n",
    "                                            min_lr=0.00001)"
   ]
  },
  {
   "cell_type": "code",
   "execution_count": 0,
   "metadata": {
    "colab": {},
    "colab_type": "code",
    "id": "1olpvhrRJcc-"
   },
   "outputs": [],
   "source": [
    "callbacks = [earlystop, learning_rate_reduction]"
   ]
  },
  {
   "cell_type": "code",
   "execution_count": 0,
   "metadata": {
    "colab": {},
    "colab_type": "code",
    "id": "CY9yumymJi1_"
   },
   "outputs": [],
   "source": [
    "df['category'] = df['category'].replace({0: 'cat', 1: 'dog'})"
   ]
  },
  {
   "cell_type": "code",
   "execution_count": 0,
   "metadata": {
    "colab": {},
    "colab_type": "code",
    "id": "nXKUB_omJu_b"
   },
   "outputs": [],
   "source": [
    "train_df, validate_df = train_test_split(df, test_size=0.20, random_state=42)\n",
    "train_df = train_df.reset_index(drop=True)\n",
    "validate_df = validate_df.reset_index(drop=True)"
   ]
  },
  {
   "cell_type": "code",
   "execution_count": 0,
   "metadata": {
    "colab": {
     "base_uri": "https://localhost:8080/",
     "height": 291
    },
    "colab_type": "code",
    "executionInfo": {
     "elapsed": 665,
     "status": "ok",
     "timestamp": 1589078956066,
     "user": {
      "displayName": "Pavan Patel",
      "photoUrl": "",
      "userId": "00041028778275492936"
     },
     "user_tz": 240
    },
    "id": "YSv5hVGgKIRI",
    "outputId": "80a5f005-135c-414e-c1a6-c6fc63b66bf0"
   },
   "outputs": [
    {
     "data": {
      "text/plain": [
       "<matplotlib.axes._subplots.AxesSubplot at 0x7f71280a1588>"
      ]
     },
     "execution_count": 26,
     "metadata": {
      "tags": []
     },
     "output_type": "execute_result"
    },
    {
     "data": {
      "image/png": "[encoded data removed]",
      "text/plain": [
       "<Figure size 432x288 with 1 Axes>"
      ]
     },
     "metadata": {
      "needs_background": "light",
      "tags": []
     },
     "output_type": "display_data"
    }
   ],
   "source": [
    "train_df['category'].value_counts().plot.bar()"
   ]
  },
  {
   "cell_type": "code",
   "execution_count": 0,
   "metadata": {
    "colab": {
     "base_uri": "https://localhost:8080/",
     "height": 291
    },
    "colab_type": "code",
    "executionInfo": {
     "elapsed": 402,
     "status": "ok",
     "timestamp": 1589078957279,
     "user": {
      "displayName": "Pavan Patel",
      "photoUrl": "",
      "userId": "00041028778275492936"
     },
     "user_tz": 240
    },
    "id": "NbF8myaVZccm",
    "outputId": "b8f40a1c-ff3f-46b0-895b-a61e0b3b303d"
   },
   "outputs": [
    {
     "data": {
      "text/plain": [
       "<matplotlib.axes._subplots.AxesSubplot at 0x7f712048da58>"
      ]
     },
     "execution_count": 27,
     "metadata": {
      "tags": []
     },
     "output_type": "execute_result"
    },
    {
     "data": {
      "image/png": "[encoded data removed]",
      "text/plain": [
       "<Figure size 432x288 with 1 Axes>"
      ]
     },
     "metadata": {
      "needs_background": "light",
      "tags": []
     },
     "output_type": "display_data"
    }
   ],
   "source": [
    "validate_df['category'].value_counts().plot.bar()"
   ]
  },
  {
   "cell_type": "markdown",
   "metadata": {
    "colab": {},
    "colab_type": "code",
    "id": "6a-DaXxdu4zr"
   },
   "source": [
    "# Training Model"
   ]
  },
  {
   "cell_type": "code",
   "execution_count": 0,
   "metadata": {
    "colab": {},
    "colab_type": "code",
    "id": "svuY1sIXsfDA"
   },
   "outputs": [],
   "source": [
    "total_train = train_df.shape[0]\n",
    "total_validate = validate_df.shape[0]\n",
    "batch_size = 15"
   ]
  },
  {
   "cell_type": "code",
   "execution_count": 0,
   "metadata": {
    "colab": {},
    "colab_type": "code",
    "id": "jEaf5xA9tsWz"
   },
   "outputs": [],
   "source": [
    "train_datagen = ImageDataGenerator(\n",
    "    rotation_range=15,\n",
    "    rescale=1./255,\n",
    "    shear_range=0.1,\n",
    "    zoom_range=0.2,\n",
    "    horizontal_flip=True,\n",
    "    width_shift_range=0.1,\n",
    "    height_shift_range=0.1,\n",
    ")\n",
    "\n",
    "\n"
   ]
  },
  {
   "cell_type": "code",
   "execution_count": 0,
   "metadata": {
    "colab": {
     "base_uri": "https://localhost:8080/",
     "height": 33
    },
    "colab_type": "code",
    "executionInfo": {
     "elapsed": 40382,
     "status": "ok",
     "timestamp": 1589079002131,
     "user": {
      "displayName": "Pavan Patel",
      "photoUrl": "",
      "userId": "00041028778275492936"
     },
     "user_tz": 240
    },
    "id": "SZFLp2HTxS4c",
    "outputId": "6b1b581f-b321-418d-a71c-83ae36781efa"
   },
   "outputs": [
    {
     "name": "stdout",
     "output_type": "stream",
     "text": [
      "Found 20000 validated image filenames belonging to 2 classes.\n"
     ]
    }
   ],
   "source": [
    "train_generator = train_datagen.flow_from_dataframe(\n",
    "    train_df,\n",
    "    \"/content/drive/My Drive/Colab Notebooks/Deep Learning Data/train/\",\n",
    "    x_col='filename',\n",
    "    y_col='category', \n",
    "    target_size=IMAGE_SIZE,\n",
    "    class_mode='categorical',\n",
    "    batch_size=batch_size\n",
    ")\n",
    "\n"
   ]
  },
  {
   "cell_type": "code",
   "execution_count": 0,
   "metadata": {
    "colab": {
     "base_uri": "https://localhost:8080/",
     "height": 33
    },
    "colab_type": "code",
    "executionInfo": {
     "elapsed": 10371,
     "status": "ok",
     "timestamp": 1589079054044,
     "user": {
      "displayName": "Pavan Patel",
      "photoUrl": "",
      "userId": "00041028778275492936"
     },
     "user_tz": 240
    },
    "id": "FQPvTkesiniP",
    "outputId": "42141cd7-141c-4183-d782-9d6ceb2bf316"
   },
   "outputs": [
    {
     "name": "stdout",
     "output_type": "stream",
     "text": [
      "Found 5000 validated image filenames belonging to 2 classes.\n"
     ]
    }
   ],
   "source": [
    "validation_datagen = ImageDataGenerator(rescale=1./255)\n",
    "validation_generator = validation_datagen.flow_from_dataframe(\n",
    "    validate_df,\n",
    "    \"/content/drive/My Drive/Colab Notebooks/Deep Learning Data/train/\",\n",
    "    x_col='filename',\n",
    "    y_col='category', \n",
    "    target_size=IMAGE_SIZE, \n",
    "    class_mode='categorical', \n",
    "    batch_size=batch_size\n",
    ")\n"
   ]
  },
  {
   "cell_type": "code",
   "execution_count": 0,
   "metadata": {
    "colab": {
     "base_uri": "https://localhost:8080/",
     "height": 672
    },
    "colab_type": "code",
    "executionInfo": {
     "elapsed": 17544873,
     "status": "ok",
     "timestamp": 1589108210191,
     "user": {
      "displayName": "Pavan Patel",
      "photoUrl": "",
      "userId": "00041028778275492936"
     },
     "user_tz": 240
    },
    "id": "jRduyyIlk3gv",
    "outputId": "b700e586-c4e5-4f78-9530-f8a935f59fe1"
   },
   "outputs": [
    {
     "name": "stdout",
     "output_type": "stream",
     "text": [
      "Epoch 1/50\n",
      "1333/1333 [==============================] - 8801s 7s/step - loss: 0.7418 - accuracy: 0.6343 - val_loss: 0.5777 - val_accuracy: 0.7131\n",
      "Epoch 2/50\n"
     ]
    },
    {
     "name": "stderr",
     "output_type": "stream",
     "text": [
      "/usr/local/lib/python3.6/dist-packages/keras/callbacks/callbacks.py:1042: RuntimeWarning: Reduce LR on plateau conditioned on metric `val_acc` which is not available. Available metrics are: val_loss,val_accuracy,loss,accuracy,lr\n",
      "  (self.monitor, ','.join(list(logs.keys()))), RuntimeWarning\n"
     ]
    },
    {
     "name": "stdout",
     "output_type": "stream",
     "text": [
      "1333/1333 [==============================] - 1154s 866ms/step - loss: 0.5491 - accuracy: 0.7264 - val_loss: 0.7361 - val_accuracy: 0.7523\n",
      "Epoch 3/50\n",
      "1333/1333 [==============================] - 1161s 871ms/step - loss: 0.4986 - accuracy: 0.7665 - val_loss: 0.6403 - val_accuracy: 0.7077\n",
      "Epoch 4/50\n",
      "1333/1333 [==============================] - 1164s 873ms/step - loss: 0.4607 - accuracy: 0.7899 - val_loss: 0.5229 - val_accuracy: 0.7693\n",
      "Epoch 5/50\n",
      "1333/1333 [==============================] - 1162s 872ms/step - loss: 0.4273 - accuracy: 0.8059 - val_loss: 0.2864 - val_accuracy: 0.8207\n",
      "Epoch 6/50\n",
      "1333/1333 [==============================] - 1163s 872ms/step - loss: 0.4115 - accuracy: 0.8150 - val_loss: 0.2405 - val_accuracy: 0.8193\n",
      "Epoch 7/50\n",
      "1333/1333 [==============================] - 1165s 874ms/step - loss: 0.3930 - accuracy: 0.8249 - val_loss: 0.4606 - val_accuracy: 0.8213\n",
      "Epoch 8/50\n",
      "1333/1333 [==============================] - 1189s 892ms/step - loss: 0.3876 - accuracy: 0.8310 - val_loss: 0.1910 - val_accuracy: 0.8566\n",
      "Epoch 9/50\n",
      "1333/1333 [==============================] - 1202s 902ms/step - loss: 0.3660 - accuracy: 0.8412 - val_loss: 0.4523 - val_accuracy: 0.8213\n",
      "Epoch 10/50\n",
      "1333/1333 [==============================] - 1190s 893ms/step - loss: 0.3642 - accuracy: 0.8376 - val_loss: 0.7432 - val_accuracy: 0.8726\n",
      "Epoch 11/50\n",
      "1333/1333 [==============================] - 1202s 902ms/step - loss: 0.3551 - accuracy: 0.8449 - val_loss: 0.2151 - val_accuracy: 0.8696\n",
      "Epoch 12/50\n",
      "1333/1333 [==============================] - 1202s 902ms/step - loss: 0.3504 - accuracy: 0.8478 - val_loss: 0.3710 - val_accuracy: 0.8660\n",
      "Epoch 13/50\n",
      "1333/1333 [==============================] - 1235s 926ms/step - loss: 0.3438 - accuracy: 0.8504 - val_loss: 0.4416 - val_accuracy: 0.8562\n",
      "Epoch 14/50\n",
      "1333/1333 [==============================] - 1236s 927ms/step - loss: 0.3376 - accuracy: 0.8565 - val_loss: 0.9206 - val_accuracy: 0.7404\n",
      "Epoch 15/50\n",
      "1333/1333 [==============================] - 1239s 929ms/step - loss: 0.3331 - accuracy: 0.8569 - val_loss: 0.3409 - val_accuracy: 0.8802\n",
      "Epoch 16/50\n",
      "1333/1333 [==============================] - 1231s 924ms/step - loss: 0.3307 - accuracy: 0.8572 - val_loss: 0.3570 - val_accuracy: 0.8323\n",
      "Epoch 17/50\n",
      "1333/1333 [==============================] - 1227s 921ms/step - loss: 0.3201 - accuracy: 0.8637 - val_loss: 0.1980 - val_accuracy: 0.8979\n",
      "Epoch 18/50\n",
      "1333/1333 [==============================] - 1230s 923ms/step - loss: 0.3252 - accuracy: 0.8589 - val_loss: 0.4374 - val_accuracy: 0.8375\n"
     ]
    }
   ],
   "source": [
    "epochs=3 if FAST_RUN else 50\n",
    "history = model.fit_generator(train_generator, epochs=epochs, validation_data=validation_generator, validation_steps=total_validate//batch_size, steps_per_epoch=total_train//batch_size, callbacks=callbacks)\n"
   ]
  },
  {
   "cell_type": "code",
   "execution_count": 0,
   "metadata": {
    "colab": {},
    "colab_type": "code",
    "id": "PuFzo1_bmSfc"
   },
   "outputs": [],
   "source": [
    "model.save_weights(\"model.h5\")"
   ]
  },
  {
   "cell_type": "code",
   "execution_count": 0,
   "metadata": {
    "colab": {
     "base_uri": "https://localhost:8080/",
     "height": 873
    },
    "colab_type": "code",
    "executionInfo": {
     "elapsed": 2185,
     "status": "ok",
     "timestamp": 1589115868060,
     "user": {
      "displayName": "Pavan Patel",
      "photoUrl": "",
      "userId": "00041028778275492936"
     },
     "user_tz": 240
    },
    "id": "EauR63SqG_nK",
    "outputId": "d1497e2a-3436-4515-d139-7e4553860403"
   },
   "outputs": [
    {
     "data": {
      "image/png": "[encoded data removed]",
      "text/plain": [
       "<Figure size 864x864 with 2 Axes>"
      ]
     },
     "metadata": {
      "needs_background": "light",
      "tags": []
     },
     "output_type": "display_data"
    }
   ],
   "source": [
    "fig, (ax1, ax2) = plt.subplots(2, 1, figsize=(12, 12))\n",
    "ax1.plot(history.history['loss'], color='b', label=\"Training loss\")\n",
    "ax1.plot(history.history['val_loss'], color='r', label=\"validation loss\")\n",
    "ax1.set_xticks(np.arange(1, epochs, 1))\n",
    "ax1.set_yticks(np.arange(0, 1, 0.1))\n",
    "\n",
    "ax2.plot(history.history['accuracy'], color='b', label=\"Training accuracy\")\n",
    "ax2.plot(history.history['val_accuracy'], color='r', label=\"Validation accuracy\")\n",
    "ax1.set_xticks(np.arange(1, epochs, 1))\n",
    "\n",
    "legend = plt.legend(loc='best', shadow=True)\n",
    "plt.tight_layout()\n",
    "plt.show()\n"
   ]
  },
  {
   "cell_type": "code",
   "execution_count": 0,
   "metadata": {
    "colab": {},
    "colab_type": "code",
    "id": "Jn9xO9d4CD6X"
   },
   "outputs": [],
   "source": [
    "test_filenames = os.listdir(\"/content/drive/My Drive/Colab Notebooks/Deep Learning Data/test1\")\n",
    "test_df = pd.DataFrame({\n",
    "    'filename': test_filenames\n",
    "})\n",
    "nb_samples = test_df.shape[0]"
   ]
  },
  {
   "cell_type": "code",
   "execution_count": 0,
   "metadata": {
    "colab": {
     "base_uri": "https://localhost:8080/",
     "height": 33
    },
    "colab_type": "code",
    "executionInfo": {
     "elapsed": 15221,
     "status": "ok",
     "timestamp": 1589115894559,
     "user": {
      "displayName": "Pavan Patel",
      "photoUrl": "",
      "userId": "00041028778275492936"
     },
     "user_tz": 240
    },
    "id": "FimzkP7oE-I7",
    "outputId": "2bc20ade-a92c-46f3-d8e8-0bae0bb74c16"
   },
   "outputs": [
    {
     "name": "stdout",
     "output_type": "stream",
     "text": [
      "Found 12500 validated image filenames.\n"
     ]
    }
   ],
   "source": [
    "test_gen = ImageDataGenerator(rescale=1./255)\n",
    "test_generator = test_gen.flow_from_dataframe(\n",
    "    test_df,\n",
    "    \"/content/drive/My Drive/Colab Notebooks/Deep Learning Data/test1/\",\n",
    "    x_col='filename',\n",
    "    y_col=None,\n",
    "    class_mode=None,\n",
    "    target_size=IMAGE_SIZE,\n",
    "    batch_size=batch_size,\n",
    "    shuffle=False\n",
    ")"
   ]
  },
  {
   "cell_type": "code",
   "execution_count": null,
   "metadata": {
    "colab": {
     "base_uri": "https://localhost:8080/",
     "height": 161
    },
    "colab_type": "code",
    "executionInfo": {
     "elapsed": 1335,
     "status": "error",
     "timestamp": 1589124315126,
     "user": {
      "displayName": "Pavan Patel",
      "photoUrl": "",
      "userId": "00041028778275492936"
     },
     "user_tz": 240
    },
    "id": "P3JpbGZ-GIDH",
    "outputId": "ce32d485-0495-45ca-bd3a-b5bee4f28484"
   },
   "outputs": [],
   "source": [
    "predict=model.predict_generator(test_generator, steps=np.ceil(nb_samples/batch_size))\n"
   ]
  },
  {
   "cell_type": "code",
   "execution_count": null,
   "metadata": {
    "colab": {
     "base_uri": "https://localhost:8080/",
     "height": 178
    },
    "colab_type": "code",
    "executionInfo": {
     "elapsed": 1360,
     "status": "error",
     "timestamp": 1589124306424,
     "user": {
      "displayName": "Pavan Patel",
      "photoUrl": "",
      "userId": "00041028778275492936"
     },
     "user_tz": 240
    },
    "id": "grKp2sm3Gdps",
    "outputId": "8bbc4772-afbe-4f68-f173-235aeabad2f4"
   },
   "outputs": [],
   "source": [
    "import numpy as np\n",
    "test_df['category'] = np.argmax(predict, axis=-1)"
   ]
  },
  {
   "cell_type": "code",
   "execution_count": 0,
   "metadata": {
    "colab": {},
    "colab_type": "code",
    "id": "_mb7pxUNGmf4"
   },
   "outputs": [],
   "source": [
    "categories = []\n",
    "for filename in filenames:\n",
    "  category = filename.split('.')[0]\n",
    "  if category == 'dog':\n",
    "    categories.append(1)\n",
    "    else:\n",
    "      categories.append(0)\n",
    "\n",
    "df = pd.DataFrame({\n",
    "    'filename': filenames,\n",
    "    'category': categories\n",
    "})"
   ]
  },
  {
   "cell_type": "code",
   "execution_count": 0,
   "metadata": {
    "colab": {},
    "colab_type": "code",
    "id": "CTbjOCI_HSbQ"
   },
   "outputs": [],
   "source": [
    "test_df['category'].value_counts().plot.bar()\n"
   ]
  },
  {
   "cell_type": "code",
   "execution_count": 0,
   "metadata": {
    "colab": {},
    "colab_type": "code",
    "id": "Ao7qHdI3Hb9I"
   },
   "outputs": [],
   "source": [
    "sample_test = test_df.head(18)\n",
    "sample_test.head()\n",
    "plt.figure(figsize=(12,24))\n",
    "for index, row in sample_test.iterrows():\n",
    "  filename = row['filename']\n",
    "  category = row['category']\n",
    "  img = load_img(\"/content/drive/My Drive/Colab Notebooks/Deep Learning Data/test1/\"+filename, target_size=IMAGE_SIZE)\n",
    "  plt.subplot(6, 3, index+1)\n",
    "  plt.imshow(img)\n",
    "  plt.xlabel(filename + '(' + \"{}\".format(category) + ')')\n",
    "plt.tight_layout()\n",
    "plt.show()"
   ]
  }
 ],
 "metadata": {
  "colab": {
   "authorship_tag": "ABX9TyNeq+rL4TE0MYJAzaPPCLnG",
   "collapsed_sections": [],
   "mount_file_id": "1yOIufeedXIjeyVw8XndD6VmHyYr9lYHE",
   "name": "cats and Dogs.ipynb",
   "provenance": []
  },
  "kernelspec": {
   "display_name": "Python 3",
   "language": "python",
   "name": "python3"
  },
  "language_info": {
   "codemirror_mode": {
    "name": "ipython",
    "version": 3
   },
   "file_extension": ".py",
   "mimetype": "text/x-python",
   "name": "python",
   "nbconvert_exporter": "python",
   "pygments_lexer": "ipython3",
   "version": "3.7.4"
  }
 },
 "nbformat": 4,
 "nbformat_minor": 1
}
